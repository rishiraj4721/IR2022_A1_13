{
 "cells": [
  {
   "cell_type": "code",
   "metadata": {
    "tags": [],
    "cell_id": "b2b6654d-123b-45de-934e-1b40bba50022",
    "deepnote_to_be_reexecuted": false,
    "source_hash": "f741bdc9",
    "execution_start": 1646114614601,
    "execution_millis": 4064,
    "deepnote_cell_type": "code"
   },
   "source": "import os\n\n# get a list of all files in the directory\ndirectory = \"Humor,Hist,Media,Food/\"\nfiles = os.listdir(directory)\n\nfrom nltk.tokenize import word_tokenize\nfrom nltk.corpus import stopwords\nimport nltk\nnltk.download('stopwords')\nnltk.download('punkt')",
   "execution_count": null,
   "outputs": [
    {
     "name": "stderr",
     "text": "[nltk_data] Downloading package stopwords to /root/nltk_data...\n[nltk_data]   Unzipping corpora/stopwords.zip.\n[nltk_data] Downloading package punkt to /root/nltk_data...\n[nltk_data]   Unzipping tokenizers/punkt.zip.\n",
     "output_type": "stream"
    },
    {
     "output_type": "execute_result",
     "execution_count": 1,
     "data": {
      "text/plain": "True"
     },
     "metadata": {}
    }
   ]
  },
  {
   "cell_type": "code",
   "metadata": {
    "cell_id": "9572f116-fb14-4d8d-8e78-30b8f975ee12",
    "tags": [],
    "deepnote_to_be_reexecuted": false,
    "source_hash": "44bf1e8",
    "execution_start": 1646114618679,
    "execution_millis": 10,
    "deepnote_cell_type": "code"
   },
   "source": "def preprocess(text):\n    tokenizer = nltk.RegexpTokenizer(r\"\\w+\")    # remove punctuations\n    tokens = tokenizer.tokenize(text)\n\n    tokens = [token.lower() for token in tokens]    # lower case\n    # tokens_no_sw = [word for word in tokens if not word in stopwords.words()]    # remove stop words\n    # return tokens_no_sw\n    return tokens",
   "execution_count": null,
   "outputs": []
  },
  {
   "cell_type": "code",
   "metadata": {
    "cell_id": "7412f9a1-6a6a-48e2-801a-8e5d728d877d",
    "tags": [],
    "deepnote_to_be_reexecuted": false,
    "source_hash": "c64e8942",
    "execution_start": 1646114648262,
    "execution_millis": 8740,
    "deepnote_cell_type": "code"
   },
   "source": "token_doc_id = {}\ntoken_freq = {}\n\nfor file_name in files:    # for each file\n    file_text = open(directory+file_name,'r',encoding='ISO-8859-1').read()    # read the file\n    tokens = preprocess(file_text)\n    # print(tokens)\n    for token in tokens:\n        if token not in token_doc_id:\n            token_doc_id[token] = {}\n            token_freq[token] = 0\n        if file_name not in token_doc_id[token]:\n            token_doc_id[token][file_name] = 0\n        token_doc_id[token][file_name] += 1\n        token_freq[token]+=1",
   "execution_count": null,
   "outputs": []
  },
  {
   "cell_type": "code",
   "metadata": {
    "cell_id": "25b7c303-5bff-4d31-a911-1dda27db5390",
    "tags": [],
    "deepnote_to_be_reexecuted": false,
    "source_hash": "5d7fc0d7",
    "execution_start": 1646114619617,
    "execution_millis": 19,
    "deepnote_cell_type": "code"
   },
   "source": "def and_op(list_left,list_right):\n    # get intersection of left and right\n    intersection = []\n    i = 0\n    j = 0\n    while i<len(list_left) and j<len(list_right):\n        if list_left[i]==list_right[j]:\n            intersection.append(list_left[i])\n            i+=1\n            j+=1\n        elif list_left[i]<list_right[j]:\n            i+=1\n        else:\n            j+=1\n    return intersection",
   "execution_count": null,
   "outputs": []
  },
  {
   "cell_type": "code",
   "metadata": {
    "cell_id": "f863ec97-cdaa-4be4-a1ec-0336a038bd86",
    "tags": [],
    "is_code_hidden": false,
    "deepnote_to_be_reexecuted": false,
    "source_hash": "778d5202",
    "execution_start": 1646114619645,
    "execution_millis": 25,
    "deepnote_cell_type": "code"
   },
   "source": "def or_op(list_left,list_right):\n    # get union of left and right\n    union = []\n    i = 0\n    j = 0\n    while i<len(list_left) and j<len(list_right):\n        if list_left[i]==list_right[j]:\n            union.append(list_left[i])\n            i+=1\n            j+=1\n        elif list_left[i]<list_right[j]:\n            union.append(list_left[i])\n            i+=1\n        else:\n            union.append(list_right[j])\n            j+=1\n    return union",
   "execution_count": null,
   "outputs": []
  },
  {
   "cell_type": "code",
   "source": "def not_op(word):\n    # get complement of given list\n    complement = []\n    for f in files:\n        if f not in token_doc_id[word]:\n            complement.append(file)\n    return complement",
   "metadata": {
    "cell_id": "85504c56-2b6b-44d1-ab33-7069b01c68ce",
    "tags": [],
    "deepnote_cell_type": "code"
   },
   "outputs": [],
   "execution_count": null
  },
  {
   "cell_type": "code",
   "metadata": {
    "cell_id": "78678525-3785-48ce-a5b0-1461e51de57e",
    "tags": [],
    "deepnote_to_be_reexecuted": false,
    "source_hash": "7b6be8b7",
    "execution_start": 1646114619677,
    "execution_millis": 11,
    "deepnote_cell_type": "code"
   },
   "source": "def do_operation(query,opers):\n    # do query and operations\n    num_ops = len(opers)\n    query = query[:num_ops+1]\n\n    query_doc_id = [0]*len(query)\n    query_docid_after_nots = [token_doc_id[query[0]].keys()]\n    for i in range(len(opers)):\n        if opers[i]=='AND NOT' or opers[i]=='OR NOT':\n            query_docid_after_nots.append(not_op(token_doc_id[query[i+1]].keys()))\n        else:\n            query_docid_after_nots.append(token_doc_id[query[i+1]].keys())\n    \n    obj1 = in_to_postfix()\n    postfixexp = obj1.postfix(query_docid_after_nots,opers)\n\n    obj2 = evaluate()\n    final_list_docs = obj2.evaluate_postfix(postfixexp)\n\n    return final_list_docs",
   "execution_count": null,
   "outputs": []
  },
  {
   "cell_type": "code",
   "metadata": {
    "cell_id": "3178a751-4d08-4668-9f46-63a5d6a85e45",
    "tags": [],
    "deepnote_to_be_reexecuted": false,
    "source_hash": "986e8f9c",
    "execution_start": 1646114765773,
    "execution_millis": 3,
    "deepnote_cell_type": "code"
   },
   "source": "def preprocess_operations(ops):\n    return [op.upper() for op in ops]\n\ndef preprocess_query(text):\n    tokenizer = nltk.RegexpTokenizer(r\"\\w+\")    # remove punctuations\n    tokens = tokenizer.tokenize(text)\n    tokens = [token.lower() for token in tokens]    # lower case\n    tokens_no_sw = [word for word in tokens if not word in stopwords.words()]    # remove stop words\n    return tokens_no_sw\n\n# query\nwith open('Q1_input.txt','r') as inp:\n    number_of_queries = int(inp.readline())\n    for i in range(number_of_queries):\n        input_text = inp.readline().strip().split(\" \")\n        input_ops = inp.readline().split(\", \")\n        ops_pp = preprocess_operations(input_ops)\n        print(do_operation(input_text,ops_pp))\n\n    # t = 'lion stood thoughtfully for a moment'\n    # print(preprocess(t))",
   "execution_count": null,
   "outputs": [
    {
     "name": "stdout",
     "text": "OR\nOR NOT\n",
     "output_type": "stream"
    }
   ]
  },
  {
   "cell_type": "markdown",
   "source": "<a style='text-decoration:none;line-height:16px;display:flex;color:#5B5B62;padding:10px;justify-content:end;' href='https://deepnote.com?utm_source=created-in-deepnote-cell&projectId=c98dd744-d9d5-4215-badf-4f45241c19af' target=\"_blank\">\n<img alt='Created in deepnote.com' style='display:inline;max-height:16px;margin:0px;margin-right:7.5px;' src='data:image/svg+xml;base64,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' > </img>\nCreated in <span style='font-weight:600;margin-left:4px;'>Deepnote</span></a>",
   "metadata": {
    "tags": [],
    "created_in_deepnote_cell": true,
    "deepnote_cell_type": "markdown"
   }
  }
 ],
 "nbformat": 4,
 "nbformat_minor": 2,
 "metadata": {
  "orig_nbformat": 2,
  "deepnote": {
   "is_reactive": false
  },
  "deepnote_notebook_id": "56e6909e-077a-4915-aebd-cd5539a40830",
  "deepnote_execution_queue": []
 }
}