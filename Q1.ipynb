{
 "cells": [
  {
   "cell_type": "code",
   "metadata": {
    "tags": [],
    "deepnote_to_be_reexecuted": false,
    "source_hash": "797142fa",
    "execution_start": 1646308810036,
    "execution_millis": 1823,
    "cell_id": "dbf02b42-86f8-43e3-bb45-c092cab2e12f",
    "deepnote_cell_type": "code"
   },
   "source": "import os\n\n# get a list of all files in the directory\ndirectory = \"Humor,Hist,Media,Food/\"\nfiles = os.listdir(directory)\n\nfrom nltk.tokenize import word_tokenize\nfrom nltk.corpus import stopwords\nimport nltk\nnltk.download('stopwords')\nnltk.download('punkt')\n\nstop_words = stopwords.words('english')",
   "outputs": [
    {
     "name": "stderr",
     "text": "[nltk_data] Downloading package stopwords to /root/nltk_data...\n[nltk_data]   Package stopwords is already up-to-date!\n[nltk_data] Downloading package punkt to /root/nltk_data...\n[nltk_data]   Package punkt is already up-to-date!\n",
     "output_type": "stream"
    }
   ],
   "execution_count": null
  },
  {
   "cell_type": "code",
   "metadata": {
    "tags": [],
    "deepnote_to_be_reexecuted": false,
    "source_hash": "45bd8f5f",
    "execution_start": 1646308811870,
    "execution_millis": 1,
    "cell_id": "00001-a7b27be8-b8ba-43bb-ba10-b601a077f391",
    "deepnote_cell_type": "code"
   },
   "source": "def preprocess(text):\n    tokenizer = nltk.RegexpTokenizer(r\"\\w+\")    # remove punctuations\n    tokens = tokenizer.tokenize(text)    # token the text\n\n    tokens = [token.lower() for token in tokens]    # lower case\n    tokens_no_sw = [word for word in tokens if not word in stop_words]    # remove stop words\n    return tokens_no_sw\n    # return tokens",
   "outputs": [],
   "execution_count": null
  },
  {
   "cell_type": "code",
   "metadata": {
    "tags": [],
    "deepnote_to_be_reexecuted": false,
    "source_hash": "c64e8942",
    "execution_start": 1646309005672,
    "execution_millis": 9950,
    "cell_id": "00002-8e83fbc1-c57e-426d-994a-1dba6f9cdff4",
    "deepnote_cell_type": "code"
   },
   "source": "token_doc_id = {}\ntoken_freq = {}\n\nfor file_name in files:    # for each file\n    file_text = open(directory+file_name,'r',encoding='ISO-8859-1').read()    # read the file\n    tokens = preprocess(file_text)\n    # print(tokens)\n    for token in tokens:\n        if token not in token_doc_id:\n            token_doc_id[token0] = {}\n            token_freq[token] = 0\n        if file_name not in token_doc_id[token]:\n            token_doc_id[token][file_name] = 0\n        token_doc_id[token][file_name] += 1\n        token_freq[token]+=1",
   "outputs": [],
   "execution_count": null
  },
  {
   "cell_type": "code",
   "metadata": {
    "tags": [],
    "deepnote_to_be_reexecuted": false,
    "source_hash": "806d9446",
    "execution_start": 1646308822394,
    "execution_millis": 6,
    "cell_id": "00003-7e73a667-3438-4466-ac33-c4aa239029b5",
    "deepnote_cell_type": "code"
   },
   "source": "def and_op(list_left,list_right,comparisons):\n    # get intersection of left and right\n    intersection = []\n    i = 0\n    j = 0\n    while i<len(list_left) and j<len(list_right):\n        if list_left[i]==list_right[j]:\n            intersection.append(list_left[i])\n            i+=1\n            j+=1\n        elif list_left[i]<list_right[j]:\n            i+=1\n        else:\n            j+=1\n        comparisons+=1\n    return intersection,comparisons\n\ndef or_op(list_left,list_right,comparisons):\n    # get union of left and right\n    union = []\n    i = 0\n    j = 0\n    while i<len(list_left) and j<len(list_right):\n        if list_left[i]==list_right[j]:\n            union.append(list_left[i])\n            i+=1\n            j+=1\n        elif list_left[i]<list_right[j]:\n            union.append(list_left[i])\n            i+=1\n        else:\n            union.append(list_right[j])\n            j+=1\n        comparisons+=1\n\n    while i<len(list_left):\n        union.append(list_left[i])\n        i+=1\n    while j<len(list_right):\n        union.append(list_right[j])\n        j+=1\n        \n    return union,comparisons\n\ndef not_op(word_docs):\n    # get complement of given list\n    complement = []\n    for f in files:\n        if f not in word_docs:\n            complement.append(f)\n    return sorted(complement)",
   "outputs": [],
   "execution_count": null
  },
  {
   "cell_type": "code",
   "metadata": {
    "tags": [],
    "deepnote_to_be_reexecuted": false,
    "source_hash": "25f84493",
    "execution_start": 1646310415638,
    "execution_millis": 4,
    "cell_id": "00006-f2232d33-e7ed-40e7-aeea-17db70509291",
    "deepnote_cell_type": "code"
   },
   "source": "def do_operation(query,opers):\n    # do query and operations\n    num_ops = len(opers)\n    query = query[:num_ops+1]\n    # print(query,opers)\n\n    query_doc_id = [sorted(list(token_doc_id[query[0]].keys()))]\n    input_query_final = [query[0]]\n    i = 0\n    while i<len(opers):\n        input_query_final.append(opers[i])\n        input_query_final.append(query[i+1])\n        query_doc_id.append(opers[i])\n        query_doc_id.append(sorted(list(token_doc_id[query[i+1]].keys())))\n        i+=1\n    print(\"Query input =\",\" \".join(input_query_final))\n    # for i in query_doc_id: print(i)\n\n    for i in range(len(query_doc_id)):\n        if query_doc_id[i]=='AND NOT' or query_doc_id[i]=='OR NOT':\n            query_doc_id[i+1] = not_op(query_doc_id[i+1])\n    # for i in query_doc_id: print(i)\n\n    # and\n    i = 0\n    comparisons = 0\n    while i<len(query_doc_id)-1:\n        if query_doc_id[i]=='AND' or query_doc_id[i]=='AND NOT':\n            query_doc_id[i-1],comparisons = and_op(query_doc_id[i-1],query_doc_id[i+1],comparisons)\n            query_doc_id.pop(i)\n            query_doc_id.pop(i)\n        else: i+=1\n    # for i in query_doc_id: print(i)\n\n    # or\n    i = 0\n    while i<len(query_doc_id)-1:\n        if query_doc_id[i]=='OR' or query_doc_id[i]=='OR NOT':\n            query_doc_id[i-1],comparisons = or_op(query_doc_id[i-1],query_doc_id[i+1],comparisons)\n            query_doc_id.pop(i)\n            query_doc_id.pop(i)\n        else: i+=1\n    # for i in query_doc_id: print(i)\n    print('number of documents retrieved -',len(set(query_doc_id[0])))\n    print('number of comparisons =',comparisons)\n    return sorted(list(set(query_doc_id[0])))",
   "outputs": [],
   "execution_count": null
  },
  {
   "cell_type": "code",
   "metadata": {
    "tags": [],
    "deepnote_to_be_reexecuted": false,
    "source_hash": "7e51d6a9",
    "execution_start": 1646310417404,
    "execution_millis": 4,
    "cell_id": "00007-6a8b89f6-ca8f-41d6-aae0-d3b15871247e",
    "deepnote_cell_type": "code"
   },
   "source": "def preprocess_operations(ops):\n    return [op.upper() for op in ops]\n\n# query\nwith open('Q1_input.txt','r') as inp:\n    number_of_queries = int(inp.readline())\n    for i in range(number_of_queries):\n        input_text = inp.readline()\n        input_ops = inp.readline()[:-1].split(\", \")\n        ops_pp = preprocess_operations(input_ops)\n        input_text = preprocess(input_text)\n        # print(input_text,ops_pp)\n        print(do_operation(input_text,ops_pp))\n        print()\n",
   "outputs": [
    {
     "name": "stdout",
     "text": "Query input = michael OR jackson\nnumber of documents retrieved - 125\nnumber of comparisons = 124\n['a-team', 'aboutada.txt', 'acronyms.txt', 'adrian_e.faq', 'allfam.epi', 'allusion', 'amazing.epi', 'arnold.txt', 'ateam.epi', 'b12.txt', 'bad-d', 'bitchcar.hum', 'blake7.lis', 'bnb_quot.txt', 'bnbeg2.4.txt', 'bnbguide.txt', 'bugbreak.hum', 'bugs.txt', 'buldrwho.txt', 'byfb.txt', 'c0dez.txt', 'cabbage.txt', 'candy.txt', 'cast.lis', 'cgs_lst.txt', 'change.hum', 'christop.int', 'chunnel.txt', 'coffee.faq', 'cold.fus', 'collected_quotes.txt', 'college.sla', 'comic_st.gui', 'comrevi1.hum', 'consp.txt', 'cooplaws', 'crzycred.lst', 'cultmov.faq', 'earp', 'epi_bnb.txt', 'epikarat.txt', 'episimp2.txt', 'fajitas.rcp', 'fartinfo.txt', 'fegg!int.txt', 'feggaqui.txt', 'feggmagi.txt', 'filmgoof.txt', 'films_gl.txt', 'fireplacein.txt', 'from.hum', 'gameshow.txt', 'gd_drwho.txt', 'gd_flybd.txt', 'gd_frasr.txt', 'gd_gal.txt', 'gd_hhead.txt', 'gd_liqtv.txt', 'gd_maxhd.txt', 'gd_ol.txt', 'gd_ql.txt', 'gd_sgrnd.txt', 'gd_tznew.txt', 'ghostsch.hum', 'grail.txt', 'hack7.txt', 'homebrew.txt', 'hotnnot.hum', 'how.bugs.breakd', 'how2bgod.txt', 'humor9.txt', 'iced.tea', 'interv.hum', 'jc-elvis.inf', 'jokes', 'lines.jok', 'lost.txt', 'manspace.hum', 'maxheadr', 'mead.rcp', 'mel.txt', 'miamimth.txt', 'mlverb.hum', 'montpyth.hum', 'moore.txt', 'nosuch_nasfic', 'oliver.txt', 'oliver02.txt', 'onetoone.hum', 'onetotwo.hum', 'outlimit.txt', 'pepsideg.txt', 'phxbbs-m.txt', 'pickup.txt', 'popconc.hum', 'popmusi.hum', 'psycho.txt', 'quest.hum', 'religion.txt', 'rns_bwl.txt', 'shorties.jok', 'signatur.jok', 'sigs.txt', 'smackjok.hum', 'smiley.txt', 'smokers.txt', 'stuf11.txt', 'subb_lis.txt', 'sw_err.txt', 'talebeat.hum', 'talkbizr.txt', 'telecom.q', \"terrmcd'.hum\", 'test.hum', 'tnd.1', 'top10.elf', 'trekfume.txt', 'twilight.txt', 'twinpeak.txt', 'vegan.rcp', 'wkrp.epi', 'woodbugs.txt', 'wrdnws1.txt', 'wrdnws4.txt', 'wrdnws9.txt']\n\nQuery input = michael AND jackson\nnumber of documents retrieved - 34\nnumber of comparisons = 124\n['a-team', 'aboutada.txt', 'ateam.epi', 'blake7.lis', 'bnb_quot.txt', 'bnbeg2.4.txt', 'bugbreak.hum', 'bugs.txt', 'christop.int', 'consp.txt', 'cultmov.faq', 'episimp2.txt', 'filmgoof.txt', 'gameshow.txt', 'gd_drwho.txt', 'gd_gal.txt', 'gd_ql.txt', 'gd_tznew.txt', 'hack7.txt', 'homebrew.txt', 'hotnnot.hum', 'how.bugs.breakd', 'humor9.txt', 'interv.hum', 'jokes', 'lost.txt', 'mlverb.hum', 'onetotwo.hum', 'pepsideg.txt', 'popconc.hum', 'signatur.jok', 'talebeat.hum', 'talkbizr.txt', 'twilight.txt']\n\n",
     "output_type": "stream"
    }
   ],
   "execution_count": null
  },
  {
   "cell_type": "markdown",
   "source": "<a style='text-decoration:none;line-height:16px;display:flex;color:#5B5B62;padding:10px;justify-content:end;' href='https://deepnote.com?utm_source=created-in-deepnote-cell&projectId=c98dd744-d9d5-4215-badf-4f45241c19af' target=\"_blank\">\n<img alt='Created in deepnote.com' style='display:inline;max-height:16px;margin:0px;margin-right:7.5px;' src='data:image/svg+xml;base64,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' > </img>\nCreated in <span style='font-weight:600;margin-left:4px;'>Deepnote</span></a>",
   "metadata": {
    "tags": [],
    "created_in_deepnote_cell": true,
    "deepnote_cell_type": "markdown"
   }
  }
 ],
 "nbformat": 4,
 "nbformat_minor": 2,
 "metadata": {
  "orig_nbformat": 2,
  "deepnote": {
   "is_reactive": false
  },
  "deepnote_notebook_id": "74b6e9f6-4d9c-43a2-bed6-9f4f2e83bbf0",
  "deepnote_execution_queue": []
 }
}