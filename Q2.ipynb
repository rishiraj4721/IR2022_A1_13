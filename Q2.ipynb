{
 "cells": [
  {
   "cell_type": "code",
   "execution_count": 169,
   "id": "de69bcb8",
   "metadata": {},
   "outputs": [
    {
     "name": "stderr",
     "output_type": "stream",
     "text": [
      "[nltk_data] Downloading package stopwords to\n",
      "[nltk_data]     C:\\Users\\robin\\AppData\\Roaming\\nltk_data...\n",
      "[nltk_data]   Package stopwords is already up-to-date!\n",
      "[nltk_data] Downloading package punkt to\n",
      "[nltk_data]     C:\\Users\\robin\\AppData\\Roaming\\nltk_data...\n",
      "[nltk_data]   Package punkt is already up-to-date!\n"
     ]
    },
    {
     "data": {
      "text/plain": [
       "True"
      ]
     },
     "execution_count": 169,
     "metadata": {},
     "output_type": "execute_result"
    }
   ],
   "source": [
    "import os\n",
    "from nltk.stem import PorterStemmer\n",
    "from nltk.tokenize import word_tokenize\n",
    "from nltk.corpus import stopwords\n",
    "import nltk\n",
    "nltk.download('stopwords')\n",
    "nltk.download('punkt')"
   ]
  },
  {
   "cell_type": "code",
   "execution_count": 170,
   "id": "db72072b",
   "metadata": {},
   "outputs": [],
   "source": [
    "def preprocess(text):\n",
    "\n",
    "    text = text.lower()\n",
    "    tokens = word_tokenize(text)\n",
    "    textnew = []\n",
    "    stop_words = set(stopwords.words('english'))\n",
    "    \n",
    "    for i in tokens:\n",
    "        if i not in stop_words:\n",
    "            if i.isalnum():\n",
    "                textnew.append(i)\n",
    "\n",
    "    return textnew"
   ]
  },
  {
   "cell_type": "code",
   "execution_count": 140,
   "id": "69991b65",
   "metadata": {},
   "outputs": [],
   "source": [
    "\n",
    "directory = \"Humor,Hist,Media,Food/\"\n",
    "files = os.listdir(directory)\n",
    "pos_index = {}\n",
    "documentid = {}\n",
    "num = 1\n",
    "for file_name in files: \n",
    "    documentid[num] = file_name\n",
    "    \n",
    "    file_text = open(directory+file_name,'r',encoding='ISO-8859-1').read()    # read the file\n",
    "    tokens = preprocess(file_text)\n",
    "    \n",
    "    for pos,token in enumerate(tokens):\n",
    "        if token not in pos_index:\n",
    "            pos_index[token] = [0,{}]\n",
    "            \n",
    "        if num not in pos_index[token][1]:\n",
    "            pos_index[token][0]+=1\n",
    "            pos_index[token][1][num] = []\n",
    "            \n",
    "        pos_index[token][1][num].append(pos)\n",
    "    num+= 1\n",
    "   "
   ]
  },
  {
   "cell_type": "code",
   "execution_count": 194,
   "id": "3f4faf9c",
   "metadata": {},
   "outputs": [],
   "source": [
    "def phrase_query(query):\n",
    "    \n",
    "    query_token = preprocess(query)\n",
    "    for i in range(len(query_token)):\n",
    "        if query_token[i] not in pos_index:\n",
    "            print(query+ \" is not present in any document\")\n",
    "            return\n",
    "        query_token[i] = [query_token[i],i]\n",
    "    \n",
    "    \n",
    "    for i in range(len(query_token)):\n",
    "        for j in range(len(query_token)-i-1):\n",
    "            if pos_index[query_token[i][0]][0] > pos_index[query_token[j+1][0]][0] :\n",
    "                \n",
    "                query_token[j], query_token[j + 1] = query_token[j + 1], query_token[j]\n",
    "\n",
    "    \n",
    "    docs = pos_index[query_token[0][0]][1]\n",
    "    qu_in = query_token[0][1]\n",
    "    for i in query_token:\n",
    "        dock = {}\n",
    "        for docid in docs:\n",
    "            for j in pos_index[i[0]][1]:\n",
    "                if docid==j:\n",
    "                    x = 0\n",
    "                    for k in docs[docid]:\n",
    "                        f = 0\n",
    "                        for l in pos_index[i[0]][1][j]:\n",
    "                            if(k-qu_in == l-i[1]):\n",
    "                                dock[docid] = docs[docid]\n",
    "                                x =1\n",
    "                                break;\n",
    "                        if x==1:\n",
    "                            break;\n",
    "        docs = dock\n",
    "\n",
    "    if len(docs)==0:\n",
    "        print(query+\" is not present in any document\")\n",
    "    else:\n",
    "        print(\"The number of document found for \" + query, len(docs))\n",
    "        print(\"The document names are:\")\n",
    "        for i in docs:\n",
    "            print(documentid[i])\n",
    "    print()\n",
    "    \n",
    "        \n",
    "        \n",
    "        \n",
    "    "
   ]
  },
  {
   "cell_type": "code",
   "execution_count": 196,
   "id": "47325a37",
   "metadata": {},
   "outputs": [
    {
     "name": "stdout",
     "output_type": "stream",
     "text": [
      "The number of document found for still living in the fifties\n",
      " 1\n",
      "The document names are:\n",
      "acronym.txt\n",
      "\n",
      "The number of document found for dumb rich ugly guys\n",
      " 1\n",
      "The document names are:\n",
      "acronym.txt\n",
      "\n",
      "The number of document found for This gives it an atomic\n",
      " 2\n",
      "The document names are:\n",
      "admin.txt\n",
      "element.jok\n",
      "\n",
      "The number of document found for Born and raised\n",
      " 2\n",
      "The document names are:\n",
      "aboutada.txt\n",
      "idaho.txt\n",
      "\n",
      "The number of document found for and Adam was named\n",
      " 1\n",
      "The document names are:\n",
      "aboutada.txt\n",
      "\n",
      "I've never my honey\n",
      " is not present in any document\n",
      "\n",
      "The number of document found for And their French cousin\n",
      " 2\n",
      "The document names are:\n",
      "abbott.txt\n",
      "whoon1st.hum\n",
      "\n",
      "The number of document found for days to go to completion\n",
      " 1\n",
      "The document names are:\n",
      "admin.txt\n",
      "\n",
      "The number of document found for he lived there town\n",
      " 1\n",
      "The document names are:\n",
      "jokes\n",
      "\n",
      "asfbbgaeigcfhsd\n",
      " is not present in any document\n",
      "The number of document found for Ok going\n",
      " 2\n",
      "The document names are:\n",
      "skippy.hum\n",
      "skippy.txt\n",
      "\n",
      "The number of document found for life is rock 1\n",
      "The document names are:\n",
      "is_story.txt\n",
      "\n"
     ]
    }
   ],
   "source": [
    "with open('Q2_input.txt','r') as inp:\n",
    "    number_of_queries = int(inp.readline())\n",
    "    for i in range(number_of_queries):\n",
    "        phrase_query(inp.readline())\n"
   ]
  },
  {
   "cell_type": "code",
   "execution_count": 188,
   "id": "2cf53355",
   "metadata": {
    "scrolled": true
   },
   "outputs": [
    {
     "data": {
      "application/javascript": [
       "IPython.OutputArea.prototype._should_scroll = function(lines) {\n",
       "    return false;\n",
       "}\n"
      ],
      "text/plain": [
       "<IPython.core.display.Javascript object>"
      ]
     },
     "metadata": {},
     "output_type": "display_data"
    }
   ],
   "source": [
    "%%javascript\n",
    "IPython.OutputArea.prototype._should_scroll = function(lines) {\n",
    "    return false;\n",
    "}"
   ]
  },
  {
   "cell_type": "code",
   "execution_count": null,
   "id": "088fd656",
   "metadata": {},
   "outputs": [],
   "source": []
  }
 ],
 "metadata": {
  "kernelspec": {
   "display_name": "Python 3",
   "language": "python",
   "name": "python3"
  },
  "language_info": {
   "codemirror_mode": {
    "name": "ipython",
    "version": 3
   },
   "file_extension": ".py",
   "mimetype": "text/x-python",
   "name": "python",
   "nbconvert_exporter": "python",
   "pygments_lexer": "ipython3",
   "version": "3.7.4"
  }
 },
 "nbformat": 4,
 "nbformat_minor": 5
}
